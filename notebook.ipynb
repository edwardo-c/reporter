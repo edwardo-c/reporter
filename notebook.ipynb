{
 "cells": [
  {
   "cell_type": "code",
   "execution_count": 9,
   "id": "87b52faa",
   "metadata": {},
   "outputs": [
    {
     "name": "stdout",
     "output_type": "stream",
     "text": [
      "The autoreload extension is already loaded. To reload it, use:\n",
      "  %reload_ext autoreload\n"
     ]
    }
   ],
   "source": [
    "%load_ext autoreload\n",
    "%autoreload 2"
   ]
  },
  {
   "cell_type": "markdown",
   "id": "cf83c279",
   "metadata": {},
   "source": [
    "# Excel Writer Template for price List process"
   ]
  },
  {
   "cell_type": "code",
   "execution_count": 17,
   "id": "574d4e92",
   "metadata": {},
   "outputs": [],
   "source": [
    "from pathlib import Path\n",
    "import shutil\n",
    "import xlwings as xw\n",
    "import pandas as pd\n",
    "\n",
    "def write_df_to_listobject(\n",
    "    template_path: str | Path,\n",
    "    output_path: str | Path,\n",
    "    sheet_name: str,\n",
    "    table_name: str,\n",
    "    df: pd.DataFrame,\n",
    "    *,\n",
    "    write_header: bool = False  # your table already has headers\n",
    "):\n",
    "    # Work on a copy so the original template stays pristine\n",
    "    template_path = Path(template_path)\n",
    "    output_path = Path(output_path)\n",
    "    output_path.parent.mkdir(parents=True, exist_ok=True)\n",
    "    shutil.copyfile(template_path, output_path)\n",
    "\n",
    "    app = xw.App(visible=False, add_book=False)\n",
    "    app.screen_updating = False\n",
    "    app.display_alerts = False\n",
    "\n",
    "    try:\n",
    "        wb = app.books.open(str(output_path))\n",
    "        sht = wb.sheets[sheet_name]\n",
    "\n",
    "        # COM ListObject\n",
    "        lo = sht.api.ListObjects(table_name)\n",
    "\n",
    "        # Top-left header cell (COM)\n",
    "        hdr_tl_com = lo.HeaderRowRange.Cells(1, 1)\n",
    "        hdr_row = hdr_tl_com.Row\n",
    "        hdr_col = hdr_tl_com.Column\n",
    "\n",
    "        # xlwings Range from coordinates (xlwings wants row/col, not COM obj)\n",
    "        hdr_tl = sht.range((hdr_row, hdr_col))\n",
    "\n",
    "        # 1) write header if requested (usually False when using a real table)\n",
    "        if write_header:\n",
    "            hdr_tl.value = list(df.columns)\n",
    "\n",
    "        # 2) write body in one shot\n",
    "        body_row = hdr_row + 1 if write_header else hdr_row + 1  # table has a header row\n",
    "        body_tl = sht.range((body_row, hdr_col))\n",
    "        body_tl.options(index=False, header=False).value = df\n",
    "\n",
    "        # 3) resize table to header+body\n",
    "        n_rows, n_cols = df.shape\n",
    "        last_cell = sht.range((body_row + n_rows - 1, hdr_col + n_cols - 1))\n",
    "        full_range = sht.range((hdr_row, hdr_col), last_cell)\n",
    "        lo.Resize(full_range.api)\n",
    "\n",
    "        wb.save()\n",
    "        wb.close()\n",
    "    finally:\n",
    "        app.display_alerts = True\n",
    "        app.screen_updating = True\n",
    "        app.quit()\n"
   ]
  },
  {
   "cell_type": "code",
   "execution_count": null,
   "id": "250fc73e",
   "metadata": {},
   "outputs": [],
   "source": [
    "import numpy as np\n",
    "cols = [f\"c{i:02d}\" for i in range(16)]\n",
    "df_main = pd.DataFrame(np.random.randint(0, 1000, size=(900, 16)), columns=cols)\n",
    "\n",
    "write_df_to_listobject(\n",
    "    template_path=r\"\",  # has a sheet \"Main\" and table \"MainTbl\"\n",
    "    output_path=r\"\",\n",
    "    sheet_name=\"Price List\",\n",
    "    table_name=\"PriceList\",\n",
    "    df=df_main,\n",
    "    write_header=False\n",
    ")\n",
    "\n"
   ]
  },
  {
   "cell_type": "code",
   "execution_count": null,
   "id": "1161a2f9",
   "metadata": {},
   "outputs": [],
   "source": [
    "import xlwings as xw\n",
    "import shutil\n",
    "template = Path(r\"\")\n",
    "out_path = Path(r\"\")\n",
    "copy = shutil.copy2(template, out_path)\n",
    "\n",
    "app = xw.App(visible=True, add_book=False)\n",
    "wb = app.books.open(copy)\n",
    "\n",
    "ws = wb.sheets[\"Price List\"]\n",
    "r = ws.range(\"A3\")\n",
    "r.api.Interior.ColorIndex = 6"
   ]
  },
  {
   "cell_type": "markdown",
   "id": "fc1c7784",
   "metadata": {},
   "source": [
    "POS Yaml Testing"
   ]
  },
  {
   "cell_type": "code",
   "execution_count": 19,
   "id": "817c575c",
   "metadata": {},
   "outputs": [
    {
     "name": "stdout",
     "output_type": "stream",
     "text": [
      "{'match_regex': 'accu tech', 'pandas': {'usecols': ['CUST NAME', 'BILLING ZIP', 'SHIP TO CITY', 'SHIP TO STATE', 'SHIP TO ZIP', 'VENDOR ITEM .', 'EXTND QTY', 'ENTND AVG COST']}, 'rename': {'SoldToName': 'CUST NAME', 'PiiPartNumber': 'VENDOR ITEM .', 'ShipQuantity': 'EXTND QTY', 'ExtendedSales': 'ENTND AVG COST', 'BillToCustomerZip': 'BILLING ZIP', 'ShipToState': 'SHIP TO STATE', 'ShipToZip': 'SHIP TO CITY'}}\n",
      "{'match_regex': 'adi', 'pandas': {'usecols': ['VENDOR PART NUMBER', 'UNITS', 'COST OF SALES', 'SHIP TO ZIPCODE']}, 'rename': {'PiiPartNumber': 'VENDOR PART NUMBER', 'ShipQuantity': 'UNITS', 'ExtendedSales': 'COST OF SALES', 'ShipToZip': 'SHIP TO ZIPCODE'}}\n",
      "{'match_regex': 'exertis almo', 'pandas': {'usecols': ['NAME', 'MFG PART', 'QUANTITY SHIPPED', 'EXTENDED COST', 'CUSTOMER ZIP', 'CUSTOMER STATE', 'END USER SHIP TO STATE', 'END USER SHIP TO ZIP']}, 'rename': {'SoldToName': 'NAME', 'PiiPartNumber': 'MFG PART', 'ShipQuantity': 'QUANTITY SHIPPED', 'ExtendedSales': 'EXTENDED COST', 'BillToCustomerZip': 'CUSTOMER ZIP', 'BillToCustomerState': 'CUSTOMER STATE', 'ShipToState': 'END USER SHIP TO STATE', 'ShipToZip': 'END USER SHIP TO ZIP'}}\n",
      "{'match_regex': 'petra', 'pandas': {'usecols': ['CUSTOMER NAME', 'VENDOR SKU', 'QTY', 'STD COST', 'ZIP CODE', 'STATE']}, 'rename': {'SoldToName': 'CUSTOMER NAME', 'PiiPartNumber': 'VENDOR SKU', 'ShipQuantity': 'QTY', 'ExtendedSales': 'STD COST', 'BillToCustomerZip': 'ZIP CODE', 'BillToCustomerState': 'STATE'}}\n"
     ]
    }
   ],
   "source": [
    "from config.paths import POS_YAML\n",
    "from utils.yaml_loader import load_yaml\n",
    "\n",
    "read_cfg = load_yaml(POS_YAML)\n",
    "\n",
    "for file in read_cfg[\"files\"]:\n",
    "    print(file)\n",
    "\n"
   ]
  }
 ],
 "metadata": {
  "kernelspec": {
   "display_name": "venv",
   "language": "python",
   "name": "python3"
  },
  "language_info": {
   "codemirror_mode": {
    "name": "ipython",
    "version": 3
   },
   "file_extension": ".py",
   "mimetype": "text/x-python",
   "name": "python",
   "nbconvert_exporter": "python",
   "pygments_lexer": "ipython3",
   "version": "3.12.6"
  }
 },
 "nbformat": 4,
 "nbformat_minor": 5
}
