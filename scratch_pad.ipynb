{
 "cells": [
  {
   "cell_type": "code",
   "execution_count": 1,
   "id": "04362df9",
   "metadata": {},
   "outputs": [],
   "source": [
    "import duckdb\n",
    "db = r\"C:\\Users\\eddiec11us\\Documents\\all_sales.duckdb\"\n",
    "con = duckdb.connect(db)"
   ]
  },
  {
   "cell_type": "code",
   "execution_count": 65,
   "id": "1f65623a",
   "metadata": {},
   "outputs": [
    {
     "data": {
      "application/vnd.microsoft.datawrangler.viewer.v0+json": {
       "columns": [
        {
         "name": "index",
         "rawType": "int64",
         "type": "integer"
        },
        {
         "name": "InvoiceMonth",
         "rawType": "datetime64[us]",
         "type": "unknown"
        },
        {
         "name": "ProductCategory",
         "rawType": "object",
         "type": "string"
        },
        {
         "name": "JanCategoryTotal",
         "rawType": "float64",
         "type": "float"
        }
       ],
       "ref": "a910bc95-529e-45f8-af1b-47239f571d10",
       "rows": [
        [
         "0",
         "2025-01-01 00:00:00",
         "mount",
         "6270724.339999961"
        ],
        [
         "1",
         "2025-01-01 00:00:00",
         "tv",
         "436864.64999999997"
        ]
       ],
       "shape": {
        "columns": 3,
        "rows": 2
       }
      },
      "text/html": [
       "<div>\n",
       "<style scoped>\n",
       "    .dataframe tbody tr th:only-of-type {\n",
       "        vertical-align: middle;\n",
       "    }\n",
       "\n",
       "    .dataframe tbody tr th {\n",
       "        vertical-align: top;\n",
       "    }\n",
       "\n",
       "    .dataframe thead th {\n",
       "        text-align: right;\n",
       "    }\n",
       "</style>\n",
       "<table border=\"1\" class=\"dataframe\">\n",
       "  <thead>\n",
       "    <tr style=\"text-align: right;\">\n",
       "      <th></th>\n",
       "      <th>InvoiceMonth</th>\n",
       "      <th>ProductCategory</th>\n",
       "      <th>JanCategoryTotal</th>\n",
       "    </tr>\n",
       "  </thead>\n",
       "  <tbody>\n",
       "    <tr>\n",
       "      <th>0</th>\n",
       "      <td>2025-01-01</td>\n",
       "      <td>mount</td>\n",
       "      <td>6270724.34</td>\n",
       "    </tr>\n",
       "    <tr>\n",
       "      <th>1</th>\n",
       "      <td>2025-01-01</td>\n",
       "      <td>tv</td>\n",
       "      <td>436864.65</td>\n",
       "    </tr>\n",
       "  </tbody>\n",
       "</table>\n",
       "</div>"
      ],
      "text/plain": [
       "  InvoiceMonth ProductCategory  JanCategoryTotal\n",
       "0   2025-01-01           mount        6270724.34\n",
       "1   2025-01-01              tv         436864.65"
      ]
     },
     "execution_count": 65,
     "metadata": {},
     "output_type": "execute_result"
    }
   ],
   "source": [
    "q = \\\n",
    "\"\"\"\n",
    "SELECT\n",
    "  date_trunc('month', invoice_date) AS InvoiceMonth,\n",
    "  lower(product_category) AS ProductCategory,\n",
    "  sum(amount) AS JanCategoryTotal\n",
    "FROM all_sales\n",
    "GROUP BY date_trunc('month', invoice_date), lower(product_category)\n",
    "HAVING InvoiceMonth = date_trunc('month', DATE '2025-01-01') AND JanCategoryTotal > 400000\n",
    "ORDER BY JanCategoryTotal DESC\n",
    "\"\"\"\n",
    "\n",
    "df = con.execute(q).fetch_df()\n",
    "df\n"
   ]
  }
 ],
 "metadata": {
  "kernelspec": {
   "display_name": "venv",
   "language": "python",
   "name": "python3"
  },
  "language_info": {
   "codemirror_mode": {
    "name": "ipython",
    "version": 3
   },
   "file_extension": ".py",
   "mimetype": "text/x-python",
   "name": "python",
   "nbconvert_exporter": "python",
   "pygments_lexer": "ipython3",
   "version": "3.12.6"
  }
 },
 "nbformat": 4,
 "nbformat_minor": 5
}
